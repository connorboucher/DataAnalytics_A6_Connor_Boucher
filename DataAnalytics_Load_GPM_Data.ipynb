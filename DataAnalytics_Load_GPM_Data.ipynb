{
  "nbformat": 4,
  "nbformat_minor": 0,
  "metadata": {
    "colab": {
      "provenance": []
    },
    "kernelspec": {
      "name": "python3",
      "display_name": "Python 3"
    },
    "language_info": {
      "name": "python"
    }
  },
  "cells": [
    {
      "cell_type": "markdown",
      "source": [
        "This file contains code for converting .nc files containing precipitation values collected from NASA's Giovanni tool into a csv file for the purpose of merging with the USDA's crop dataset"
      ],
      "metadata": {
        "id": "z3h4ZXzYlzrN"
      }
    },
    {
      "cell_type": "code",
      "source": [
        "import glob\n",
        "import pandas as pd\n",
        "import xarray as xr"
      ],
      "metadata": {
        "id": "LS6btdPHQV1N"
      },
      "execution_count": null,
      "outputs": []
    },
    {
      "cell_type": "code",
      "source": [
        "def loadFile(filename):\n",
        "  ds = xr.open_mfdataset(filename) # Open file\n",
        "  df = ds.to_dataframe().reset_index() # Convert to dataframe\n",
        "  df = df.rename(columns={'GPM_3IMERGM_06_precipitation': 'precipitation'}) # Simplify column name\n",
        "  return df"
      ],
      "metadata": {
        "id": "J89UioV9QQB2"
      },
      "execution_count": null,
      "outputs": []
    },
    {
      "cell_type": "code",
      "source": [
        "cols = ['year', '04', '05', '06', '07', '08', '09'] # Independent attribute columns\n",
        "precipitation_df = pd.DataFrame(columns = cols) # Create an empty dataframe\n",
        "\n",
        "files = glob.glob(\"*.nc\") # Load in all .nc files collected from Giovanni\n",
        "files.sort() # Sort the files based on name, resulting a sort by year and then month\n",
        "\n",
        "year = 2010 # Manually set the first year of data points\n",
        "\n",
        "i = 0\n",
        "while i < len(files):\n",
        "  vals = [year] # Set the first value as the year\n",
        "  for j in range(6): # Loop through next 6 files in list, corresponding to months April-September of current year value\n",
        "    vals.append(loadFile(files[i])['precipitation'].mean()) # Add average of month precipitation to list\n",
        "    i += 1\n",
        "  year += 1\n",
        "\n",
        "  precipitation_df.loc[len(precipitation_df)] = vals # Insert row containing year and precipitation averages into dataframe\n",
        "\n",
        "precipitation_df['year'] = precipitation_df['year'].astype(int) # Convert year column to int values"
      ],
      "metadata": {
        "id": "kBcXqUHdCn_h"
      },
      "execution_count": null,
      "outputs": []
    },
    {
      "cell_type": "code",
      "source": [
        "precipitation_df.head(10)"
      ],
      "metadata": {
        "colab": {
          "base_uri": "https://localhost:8080/",
          "height": 363
        },
        "id": "mzNtrzn7VvU9",
        "outputId": "8eff529b-5b0a-4064-fc75-a1e04a623ed5"
      },
      "execution_count": null,
      "outputs": [
        {
          "output_type": "execute_result",
          "data": {
            "text/plain": [
              "   year         04          05          06         07         08          09\n",
              "0  2010  30.694435   81.588577   58.637985  78.923126  17.362423   69.998413\n",
              "1  2011  45.750355   40.541813  116.750931  79.271660  32.360817   22.124327\n",
              "2  2012  47.437500   47.412399   45.361950  55.098766  83.910904   28.993668\n",
              "3  2013  20.637459   37.462730   63.991859  63.322220  37.813324  104.675720\n",
              "4  2014  58.613281   97.672356   83.434563  52.785389  34.234802   56.856579\n",
              "5  2015  89.006805   56.045376   77.334534  50.652809  13.692476   20.045979\n",
              "6  2016  63.119766  117.061249   68.671516  40.537788  54.796494   30.939898\n",
              "7  2017  74.414261   38.882072   36.977493  65.464905  25.178944   27.750265\n",
              "8  2018  20.901785   32.782516   61.801449  91.193832   5.031616   61.841522\n",
              "9  2019  55.347668   76.584427   44.642345  61.100101  39.235573   25.776859"
            ],
            "text/html": [
              "\n",
              "  <div id=\"df-553afa20-9084-4c69-a3f5-63f3c15020f9\">\n",
              "    <div class=\"colab-df-container\">\n",
              "      <div>\n",
              "<style scoped>\n",
              "    .dataframe tbody tr th:only-of-type {\n",
              "        vertical-align: middle;\n",
              "    }\n",
              "\n",
              "    .dataframe tbody tr th {\n",
              "        vertical-align: top;\n",
              "    }\n",
              "\n",
              "    .dataframe thead th {\n",
              "        text-align: right;\n",
              "    }\n",
              "</style>\n",
              "<table border=\"1\" class=\"dataframe\">\n",
              "  <thead>\n",
              "    <tr style=\"text-align: right;\">\n",
              "      <th></th>\n",
              "      <th>year</th>\n",
              "      <th>04</th>\n",
              "      <th>05</th>\n",
              "      <th>06</th>\n",
              "      <th>07</th>\n",
              "      <th>08</th>\n",
              "      <th>09</th>\n",
              "    </tr>\n",
              "  </thead>\n",
              "  <tbody>\n",
              "    <tr>\n",
              "      <th>0</th>\n",
              "      <td>2010</td>\n",
              "      <td>30.694435</td>\n",
              "      <td>81.588577</td>\n",
              "      <td>58.637985</td>\n",
              "      <td>78.923126</td>\n",
              "      <td>17.362423</td>\n",
              "      <td>69.998413</td>\n",
              "    </tr>\n",
              "    <tr>\n",
              "      <th>1</th>\n",
              "      <td>2011</td>\n",
              "      <td>45.750355</td>\n",
              "      <td>40.541813</td>\n",
              "      <td>116.750931</td>\n",
              "      <td>79.271660</td>\n",
              "      <td>32.360817</td>\n",
              "      <td>22.124327</td>\n",
              "    </tr>\n",
              "    <tr>\n",
              "      <th>2</th>\n",
              "      <td>2012</td>\n",
              "      <td>47.437500</td>\n",
              "      <td>47.412399</td>\n",
              "      <td>45.361950</td>\n",
              "      <td>55.098766</td>\n",
              "      <td>83.910904</td>\n",
              "      <td>28.993668</td>\n",
              "    </tr>\n",
              "    <tr>\n",
              "      <th>3</th>\n",
              "      <td>2013</td>\n",
              "      <td>20.637459</td>\n",
              "      <td>37.462730</td>\n",
              "      <td>63.991859</td>\n",
              "      <td>63.322220</td>\n",
              "      <td>37.813324</td>\n",
              "      <td>104.675720</td>\n",
              "    </tr>\n",
              "    <tr>\n",
              "      <th>4</th>\n",
              "      <td>2014</td>\n",
              "      <td>58.613281</td>\n",
              "      <td>97.672356</td>\n",
              "      <td>83.434563</td>\n",
              "      <td>52.785389</td>\n",
              "      <td>34.234802</td>\n",
              "      <td>56.856579</td>\n",
              "    </tr>\n",
              "    <tr>\n",
              "      <th>5</th>\n",
              "      <td>2015</td>\n",
              "      <td>89.006805</td>\n",
              "      <td>56.045376</td>\n",
              "      <td>77.334534</td>\n",
              "      <td>50.652809</td>\n",
              "      <td>13.692476</td>\n",
              "      <td>20.045979</td>\n",
              "    </tr>\n",
              "    <tr>\n",
              "      <th>6</th>\n",
              "      <td>2016</td>\n",
              "      <td>63.119766</td>\n",
              "      <td>117.061249</td>\n",
              "      <td>68.671516</td>\n",
              "      <td>40.537788</td>\n",
              "      <td>54.796494</td>\n",
              "      <td>30.939898</td>\n",
              "    </tr>\n",
              "    <tr>\n",
              "      <th>7</th>\n",
              "      <td>2017</td>\n",
              "      <td>74.414261</td>\n",
              "      <td>38.882072</td>\n",
              "      <td>36.977493</td>\n",
              "      <td>65.464905</td>\n",
              "      <td>25.178944</td>\n",
              "      <td>27.750265</td>\n",
              "    </tr>\n",
              "    <tr>\n",
              "      <th>8</th>\n",
              "      <td>2018</td>\n",
              "      <td>20.901785</td>\n",
              "      <td>32.782516</td>\n",
              "      <td>61.801449</td>\n",
              "      <td>91.193832</td>\n",
              "      <td>5.031616</td>\n",
              "      <td>61.841522</td>\n",
              "    </tr>\n",
              "    <tr>\n",
              "      <th>9</th>\n",
              "      <td>2019</td>\n",
              "      <td>55.347668</td>\n",
              "      <td>76.584427</td>\n",
              "      <td>44.642345</td>\n",
              "      <td>61.100101</td>\n",
              "      <td>39.235573</td>\n",
              "      <td>25.776859</td>\n",
              "    </tr>\n",
              "  </tbody>\n",
              "</table>\n",
              "</div>\n",
              "      <button class=\"colab-df-convert\" onclick=\"convertToInteractive('df-553afa20-9084-4c69-a3f5-63f3c15020f9')\"\n",
              "              title=\"Convert this dataframe to an interactive table.\"\n",
              "              style=\"display:none;\">\n",
              "        \n",
              "  <svg xmlns=\"http://www.w3.org/2000/svg\" height=\"24px\"viewBox=\"0 0 24 24\"\n",
              "       width=\"24px\">\n",
              "    <path d=\"M0 0h24v24H0V0z\" fill=\"none\"/>\n",
              "    <path d=\"M18.56 5.44l.94 2.06.94-2.06 2.06-.94-2.06-.94-.94-2.06-.94 2.06-2.06.94zm-11 1L8.5 8.5l.94-2.06 2.06-.94-2.06-.94L8.5 2.5l-.94 2.06-2.06.94zm10 10l.94 2.06.94-2.06 2.06-.94-2.06-.94-.94-2.06-.94 2.06-2.06.94z\"/><path d=\"M17.41 7.96l-1.37-1.37c-.4-.4-.92-.59-1.43-.59-.52 0-1.04.2-1.43.59L10.3 9.45l-7.72 7.72c-.78.78-.78 2.05 0 2.83L4 21.41c.39.39.9.59 1.41.59.51 0 1.02-.2 1.41-.59l7.78-7.78 2.81-2.81c.8-.78.8-2.07 0-2.86zM5.41 20L4 18.59l7.72-7.72 1.47 1.35L5.41 20z\"/>\n",
              "  </svg>\n",
              "      </button>\n",
              "      \n",
              "  <style>\n",
              "    .colab-df-container {\n",
              "      display:flex;\n",
              "      flex-wrap:wrap;\n",
              "      gap: 12px;\n",
              "    }\n",
              "\n",
              "    .colab-df-convert {\n",
              "      background-color: #E8F0FE;\n",
              "      border: none;\n",
              "      border-radius: 50%;\n",
              "      cursor: pointer;\n",
              "      display: none;\n",
              "      fill: #1967D2;\n",
              "      height: 32px;\n",
              "      padding: 0 0 0 0;\n",
              "      width: 32px;\n",
              "    }\n",
              "\n",
              "    .colab-df-convert:hover {\n",
              "      background-color: #E2EBFA;\n",
              "      box-shadow: 0px 1px 2px rgba(60, 64, 67, 0.3), 0px 1px 3px 1px rgba(60, 64, 67, 0.15);\n",
              "      fill: #174EA6;\n",
              "    }\n",
              "\n",
              "    [theme=dark] .colab-df-convert {\n",
              "      background-color: #3B4455;\n",
              "      fill: #D2E3FC;\n",
              "    }\n",
              "\n",
              "    [theme=dark] .colab-df-convert:hover {\n",
              "      background-color: #434B5C;\n",
              "      box-shadow: 0px 1px 3px 1px rgba(0, 0, 0, 0.15);\n",
              "      filter: drop-shadow(0px 1px 2px rgba(0, 0, 0, 0.3));\n",
              "      fill: #FFFFFF;\n",
              "    }\n",
              "  </style>\n",
              "\n",
              "      <script>\n",
              "        const buttonEl =\n",
              "          document.querySelector('#df-553afa20-9084-4c69-a3f5-63f3c15020f9 button.colab-df-convert');\n",
              "        buttonEl.style.display =\n",
              "          google.colab.kernel.accessAllowed ? 'block' : 'none';\n",
              "\n",
              "        async function convertToInteractive(key) {\n",
              "          const element = document.querySelector('#df-553afa20-9084-4c69-a3f5-63f3c15020f9');\n",
              "          const dataTable =\n",
              "            await google.colab.kernel.invokeFunction('convertToInteractive',\n",
              "                                                     [key], {});\n",
              "          if (!dataTable) return;\n",
              "\n",
              "          const docLinkHtml = 'Like what you see? Visit the ' +\n",
              "            '<a target=\"_blank\" href=https://colab.research.google.com/notebooks/data_table.ipynb>data table notebook</a>'\n",
              "            + ' to learn more about interactive tables.';\n",
              "          element.innerHTML = '';\n",
              "          dataTable['output_type'] = 'display_data';\n",
              "          await google.colab.output.renderOutput(dataTable, element);\n",
              "          const docLink = document.createElement('div');\n",
              "          docLink.innerHTML = docLinkHtml;\n",
              "          element.appendChild(docLink);\n",
              "        }\n",
              "      </script>\n",
              "    </div>\n",
              "  </div>\n",
              "  "
            ]
          },
          "metadata": {},
          "execution_count": 17
        }
      ]
    },
    {
      "cell_type": "code",
      "source": [
        "precipitation_df.to_csv('GPM_DATA.csv', index = False) # Convert dataframe to .csv file"
      ],
      "metadata": {
        "id": "ggT0qfpqYkSB"
      },
      "execution_count": null,
      "outputs": []
    },
    {
      "cell_type": "code",
      "source": [
        "# Display the distribution of precipitation values for one file\n",
        "# This is only for visual purposes\n",
        "\n",
        "import matplotlib.pyplot as plt\n",
        "import seaborn as sns\n",
        "\n",
        "df = loadFile('2010.04.nc')\n",
        "\n",
        "X = df.drop(columns=['precipitation'])\n",
        "y = df['precipitation']\n",
        "\n",
        "plt.figure(figsize=(8,6))\n",
        "s = sns.histplot(y, bins = 1000)\n",
        "s.set_xlabel(\"Precipitation (mm/month)\", fontsize = 20)\n",
        "s.set_ylabel(\"Density\", fontsize = 20)\n",
        "title = plt.title(\"Precipitation Histogram for April 2010\", fontsize = 20)"
      ],
      "metadata": {
        "colab": {
          "base_uri": "https://localhost:8080/",
          "height": 418
        },
        "id": "-9WpRQjmpZKf",
        "outputId": "3c57102e-7d5f-4f1e-f1de-31b47747c507"
      },
      "execution_count": null,
      "outputs": [
        {
          "output_type": "display_data",
          "data": {
            "text/plain": [
              "<Figure size 576x432 with 1 Axes>"
            ],
            "image/png": "[encoded data removed]"
          },
          "metadata": {
            "needs_background": "light"
          }
        }
      ]
    }
  ]
}
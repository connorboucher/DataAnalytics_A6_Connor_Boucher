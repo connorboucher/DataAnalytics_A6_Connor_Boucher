{
  "nbformat": 4,
  "nbformat_minor": 0,
  "metadata": {
    "colab": {
      "provenance": [],
      "collapsed_sections": [
        "Bo1SDmXYWbs1",
        "I1icnoxAWje8"
      ]
    },
    "kernelspec": {
      "name": "python3",
      "display_name": "Python 3"
    },
    "language_info": {
      "name": "python"
    }
  },
  "cells": [
    {
      "cell_type": "markdown",
      "source": [
        "This is an outdated version of the project that was scrapped.\n",
        "Nothing in this file is considered part of the final project or analysis."
      ],
      "metadata": {
        "id": "_hUOoNJWmbzl"
      }
    },
    {
      "cell_type": "markdown",
      "source": [
        "Sites Used\n",
        "\n",
        "GPM data:\n",
        "https://disc.gsfc.nasa.gov/datasets/GPM_3IMERGDF_06/summary\n",
        "\n",
        "NDVI data:\n",
        "https://glam1.gsfc.nasa.gov/\n",
        "\n",
        "Crop data:\n",
        "https://apps.fas.usda.gov/psdonline/app/index.html#/app/downloads\n",
        "\n",
        "Loading .HDF5 file and converting to .csv:\n",
        "https://towardsdatascience.com/working-with-hdf5-files-and-creating-csv-files-1a7d212d970f"
      ],
      "metadata": {
        "id": "Ko1fnsxO4dZ0"
      }
    },
    {
      "cell_type": "code",
      "source": [
        "import h5py\n",
        "import numpy as np\n",
        "import pandas as pd"
      ],
      "metadata": {
        "id": "s9kxXsea2MjU"
      },
      "execution_count": null,
      "outputs": []
    },
    {
      "cell_type": "code",
      "source": [
        "# Read in data from local file\n",
        "#df = pd.read_csv('./psd_alldata.csv')\n",
        "df_cotton = pd.read_csv('./psd_cotton.csv')\n",
        "\n",
        "#print(df.columns)\n",
        "#print(df.columns[0:10])\n",
        "#print(df[50:55])\n",
        "df_cotton.head()"
      ],
      "metadata": {
        "id": "plfxK42tpc_F",
        "colab": {
          "base_uri": "https://localhost:8080/",
          "height": 270
        },
        "outputId": "f58d6d75-4314-4d46-d9c2-9791b61754e2"
      },
      "execution_count": null,
      "outputs": [
        {
          "output_type": "execute_result",
          "data": {
            "text/plain": [
              "   Commodity_Code Commodity_Description Country_Code Country_Name  \\\n",
              "0         2631000                Cotton           AF  Afghanistan   \n",
              "1         2631000                Cotton           AF  Afghanistan   \n",
              "2         2631000                Cotton           AF  Afghanistan   \n",
              "3         2631000                Cotton           AF  Afghanistan   \n",
              "4         2631000                Cotton           AF  Afghanistan   \n",
              "\n",
              "   Market_Year  Calendar_Year  Month  Attribute_ID Attribute_Description  \\\n",
              "0         1960           2006      6             4        Area Harvested   \n",
              "1         1960           2006      6            20      Beginning Stocks   \n",
              "2         1960           2006      6           125  Domestic Consumption   \n",
              "3         1960           2006      6           176         Ending Stocks   \n",
              "4         1960           2006      6            88               Exports   \n",
              "\n",
              "   Unit_ID    Unit_Description  Value  \n",
              "0        4           (1000 HA)   81.0  \n",
              "1       27  1000 480 lb. Bales   30.0  \n",
              "2       27  1000 480 lb. Bales   40.0  \n",
              "3       27  1000 480 lb. Bales   40.0  \n",
              "4       27  1000 480 lb. Bales   30.0  "
            ],
            "text/html": [
              "\n",
              "  <div id=\"df-6ad15c80-1ea1-4a98-b677-f5bb581ae2a4\">\n",
              "    <div class=\"colab-df-container\">\n",
              "      <div>\n",
              "<style scoped>\n",
              "    .dataframe tbody tr th:only-of-type {\n",
              "        vertical-align: middle;\n",
              "    }\n",
              "\n",
              "    .dataframe tbody tr th {\n",
              "        vertical-align: top;\n",
              "    }\n",
              "\n",
              "    .dataframe thead th {\n",
              "        text-align: right;\n",
              "    }\n",
              "</style>\n",
              "<table border=\"1\" class=\"dataframe\">\n",
              "  <thead>\n",
              "    <tr style=\"text-align: right;\">\n",
              "      <th></th>\n",
              "      <th>Commodity_Code</th>\n",
              "      <th>Commodity_Description</th>\n",
              "      <th>Country_Code</th>\n",
              "      <th>Country_Name</th>\n",
              "      <th>Market_Year</th>\n",
              "      <th>Calendar_Year</th>\n",
              "      <th>Month</th>\n",
              "      <th>Attribute_ID</th>\n",
              "      <th>Attribute_Description</th>\n",
              "      <th>Unit_ID</th>\n",
              "      <th>Unit_Description</th>\n",
              "      <th>Value</th>\n",
              "    </tr>\n",
              "  </thead>\n",
              "  <tbody>\n",
              "    <tr>\n",
              "      <th>0</th>\n",
              "      <td>2631000</td>\n",
              "      <td>Cotton</td>\n",
              "      <td>AF</td>\n",
              "      <td>Afghanistan</td>\n",
              "      <td>1960</td>\n",
              "      <td>2006</td>\n",
              "      <td>6</td>\n",
              "      <td>4</td>\n",
              "      <td>Area Harvested</td>\n",
              "      <td>4</td>\n",
              "      <td>(1000 HA)</td>\n",
              "      <td>81.0</td>\n",
              "    </tr>\n",
              "    <tr>\n",
              "      <th>1</th>\n",
              "      <td>2631000</td>\n",
              "      <td>Cotton</td>\n",
              "      <td>AF</td>\n",
              "      <td>Afghanistan</td>\n",
              "      <td>1960</td>\n",
              "      <td>2006</td>\n",
              "      <td>6</td>\n",
              "      <td>20</td>\n",
              "      <td>Beginning Stocks</td>\n",
              "      <td>27</td>\n",
              "      <td>1000 480 lb. Bales</td>\n",
              "      <td>30.0</td>\n",
              "    </tr>\n",
              "    <tr>\n",
              "      <th>2</th>\n",
              "      <td>2631000</td>\n",
              "      <td>Cotton</td>\n",
              "      <td>AF</td>\n",
              "      <td>Afghanistan</td>\n",
              "      <td>1960</td>\n",
              "      <td>2006</td>\n",
              "      <td>6</td>\n",
              "      <td>125</td>\n",
              "      <td>Domestic Consumption</td>\n",
              "      <td>27</td>\n",
              "      <td>1000 480 lb. Bales</td>\n",
              "      <td>40.0</td>\n",
              "    </tr>\n",
              "    <tr>\n",
              "      <th>3</th>\n",
              "      <td>2631000</td>\n",
              "      <td>Cotton</td>\n",
              "      <td>AF</td>\n",
              "      <td>Afghanistan</td>\n",
              "      <td>1960</td>\n",
              "      <td>2006</td>\n",
              "      <td>6</td>\n",
              "      <td>176</td>\n",
              "      <td>Ending Stocks</td>\n",
              "      <td>27</td>\n",
              "      <td>1000 480 lb. Bales</td>\n",
              "      <td>40.0</td>\n",
              "    </tr>\n",
              "    <tr>\n",
              "      <th>4</th>\n",
              "      <td>2631000</td>\n",
              "      <td>Cotton</td>\n",
              "      <td>AF</td>\n",
              "      <td>Afghanistan</td>\n",
              "      <td>1960</td>\n",
              "      <td>2006</td>\n",
              "      <td>6</td>\n",
              "      <td>88</td>\n",
              "      <td>Exports</td>\n",
              "      <td>27</td>\n",
              "      <td>1000 480 lb. Bales</td>\n",
              "      <td>30.0</td>\n",
              "    </tr>\n",
              "  </tbody>\n",
              "</table>\n",
              "</div>\n",
              "      <button class=\"colab-df-convert\" onclick=\"convertToInteractive('df-6ad15c80-1ea1-4a98-b677-f5bb581ae2a4')\"\n",
              "              title=\"Convert this dataframe to an interactive table.\"\n",
              "              style=\"display:none;\">\n",
              "        \n",
              "  <svg xmlns=\"http://www.w3.org/2000/svg\" height=\"24px\"viewBox=\"0 0 24 24\"\n",
              "       width=\"24px\">\n",
              "    <path d=\"M0 0h24v24H0V0z\" fill=\"none\"/>\n",
              "    <path d=\"M18.56 5.44l.94 2.06.94-2.06 2.06-.94-2.06-.94-.94-2.06-.94 2.06-2.06.94zm-11 1L8.5 8.5l.94-2.06 2.06-.94-2.06-.94L8.5 2.5l-.94 2.06-2.06.94zm10 10l.94 2.06.94-2.06 2.06-.94-2.06-.94-.94-2.06-.94 2.06-2.06.94z\"/><path d=\"M17.41 7.96l-1.37-1.37c-.4-.4-.92-.59-1.43-.59-.52 0-1.04.2-1.43.59L10.3 9.45l-7.72 7.72c-.78.78-.78 2.05 0 2.83L4 21.41c.39.39.9.59 1.41.59.51 0 1.02-.2 1.41-.59l7.78-7.78 2.81-2.81c.8-.78.8-2.07 0-2.86zM5.41 20L4 18.59l7.72-7.72 1.47 1.35L5.41 20z\"/>\n",
              "  </svg>\n",
              "      </button>\n",
              "      \n",
              "  <style>\n",
              "    .colab-df-container {\n",
              "      display:flex;\n",
              "      flex-wrap:wrap;\n",
              "      gap: 12px;\n",
              "    }\n",
              "\n",
              "    .colab-df-convert {\n",
              "      background-color: #E8F0FE;\n",
              "      border: none;\n",
              "      border-radius: 50%;\n",
              "      cursor: pointer;\n",
              "      display: none;\n",
              "      fill: #1967D2;\n",
              "      height: 32px;\n",
              "      padding: 0 0 0 0;\n",
              "      width: 32px;\n",
              "    }\n",
              "\n",
              "    .colab-df-convert:hover {\n",
              "      background-color: #E2EBFA;\n",
              "      box-shadow: 0px 1px 2px rgba(60, 64, 67, 0.3), 0px 1px 3px 1px rgba(60, 64, 67, 0.15);\n",
              "      fill: #174EA6;\n",
              "    }\n",
              "\n",
              "    [theme=dark] .colab-df-convert {\n",
              "      background-color: #3B4455;\n",
              "      fill: #D2E3FC;\n",
              "    }\n",
              "\n",
              "    [theme=dark] .colab-df-convert:hover {\n",
              "      background-color: #434B5C;\n",
              "      box-shadow: 0px 1px 3px 1px rgba(0, 0, 0, 0.15);\n",
              "      filter: drop-shadow(0px 1px 2px rgba(0, 0, 0, 0.3));\n",
              "      fill: #FFFFFF;\n",
              "    }\n",
              "  </style>\n",
              "\n",
              "      <script>\n",
              "        const buttonEl =\n",
              "          document.querySelector('#df-6ad15c80-1ea1-4a98-b677-f5bb581ae2a4 button.colab-df-convert');\n",
              "        buttonEl.style.display =\n",
              "          google.colab.kernel.accessAllowed ? 'block' : 'none';\n",
              "\n",
              "        async function convertToInteractive(key) {\n",
              "          const element = document.querySelector('#df-6ad15c80-1ea1-4a98-b677-f5bb581ae2a4');\n",
              "          const dataTable =\n",
              "            await google.colab.kernel.invokeFunction('convertToInteractive',\n",
              "                                                     [key], {});\n",
              "          if (!dataTable) return;\n",
              "\n",
              "          const docLinkHtml = 'Like what you see? Visit the ' +\n",
              "            '<a target=\"_blank\" href=https://colab.research.google.com/notebooks/data_table.ipynb>data table notebook</a>'\n",
              "            + ' to learn more about interactive tables.';\n",
              "          element.innerHTML = '';\n",
              "          dataTable['output_type'] = 'display_data';\n",
              "          await google.colab.output.renderOutput(dataTable, element);\n",
              "          const docLink = document.createElement('div');\n",
              "          docLink.innerHTML = docLinkHtml;\n",
              "          element.appendChild(docLink);\n",
              "        }\n",
              "      </script>\n",
              "    </div>\n",
              "  </div>\n",
              "  "
            ]
          },
          "metadata": {},
          "execution_count": 17
        }
      ]
    },
    {
      "cell_type": "code",
      "source": [
        "# Read in GPM data\n",
        "file = h5py.File('./GPM_DATA.HDF5', 'r')\n",
        "\n",
        "grid = file['Grid']\n",
        "grid.keys()"
      ],
      "metadata": {
        "id": "w9faOBUg20mv",
        "colab": {
          "base_uri": "https://localhost:8080/"
        },
        "outputId": "5605770c-5d3e-4539-d290-ce473d744975"
      },
      "execution_count": null,
      "outputs": [
        {
          "output_type": "execute_result",
          "data": {
            "text/plain": [
              "<KeysViewHDF5 ['nv', 'lonv', 'latv', 'time', 'lon', 'lat', 'time_bnds', 'lon_bnds', 'lat_bnds', 'precipitationCal', 'precipitationUncal', 'randomError', 'HQprecipitation', 'HQprecipSource', 'HQobservationTime', 'IRprecipitation', 'IRkalmanFilterWeight', 'probabilityLiquidPrecipitation', 'precipitationQualityIndex']>"
            ]
          },
          "metadata": {},
          "execution_count": 9
        }
      ]
    },
    {
      "cell_type": "code",
      "source": [
        "# Read in NDVI data\n",
        "df = pd.read_csv('./NDVI_DATA.csv', sep='delimiter')\n",
        "#ndvi = df.to_numpy()"
      ],
      "metadata": {
        "id": "LBdId__pYv1m"
      },
      "execution_count": null,
      "outputs": []
    },
    {
      "cell_type": "code",
      "source": [
        "# Retreive names of columns\n",
        "cols = df.iloc[11].values[0]\n",
        "ndvi_col_names = cols.split(',')\n",
        "print(ndvi_col_names)"
      ],
      "metadata": {
        "colab": {
          "base_uri": "https://localhost:8080/"
        },
        "id": "toAuRodlkrdu",
        "outputId": "40cf76da-2a4d-4aa3-c6a1-58c324243990"
      },
      "execution_count": null,
      "outputs": [
        {
          "output_type": "stream",
          "name": "stdout",
          "text": [
            "['ORDINAL DATE', 'START DATE', 'END DATE', 'SOURCE', 'SAMPLE VALUE', 'SAMPLE COUNT', 'MEAN VALUE', 'MEAN COUNT', 'ANOM VALUE', 'MIN VALUE', 'MAX VALUE']\n"
          ]
        }
      ]
    },
    {
      "cell_type": "code",
      "source": [
        "# Retreive data\n",
        "data = df.iloc[12:,:]\n",
        "for row in data.values:\n",
        "  s = row[0][0].split(',')\n",
        "  # print(s)\n",
        "\n",
        "#data.columns = ndvi_col_names\n",
        "#print(type(data[\"GLAM Project\"]))\n",
        "#print(data.iloc[0].values[0].split(','))\n",
        "#for "
      ],
      "metadata": {
        "id": "se7Z1cY6i-pI"
      },
      "execution_count": null,
      "outputs": []
    },
    {
      "cell_type": "code",
      "source": [
        "# ndvi_data = np.copy(ndvi[12:])\n",
        "# for i in range(ndvi_data.shape[0]):\n",
        "#   ndvi_string = ndvi_data[i][0]\n",
        "#   ndvi_string = np.char.split(ndvi_string, sep = ',')\n",
        "#   print(ndvi_string)\n",
        "#   print(type(ndvi_string))\n",
        "#   for j in range(4, ndvi_data[i][0].shape[0]):\n",
        "#     print(ndvi_data[i][j])\n",
        "# #     ndvi_data[i][j] = float(ndvi_data[i][j])\n",
        "#   break\n",
        "\n",
        "# # print(ndvi_data[i])"
      ],
      "metadata": {
        "colab": {
          "base_uri": "https://localhost:8080/",
          "height": 252
        },
        "id": "DJy8N2IYZI7V",
        "outputId": "1da72f1a-5ef8-4a61-f24e-653e12961771"
      },
      "execution_count": null,
      "outputs": [
        {
          "output_type": "stream",
          "name": "stdout",
          "text": [
            "['2002-185', '2002-07-04', '2002-07-11', 'STD', '0.553', '144209518', '0.573', '168359211', '-0.020', '0.550', '0.595']\n"
          ]
        },
        {
          "output_type": "error",
          "ename": "TypeError",
          "evalue": "ignored",
          "traceback": [
            "\u001b[0;31m---------------------------------------------------------------------------\u001b[0m",
            "\u001b[0;31mTypeError\u001b[0m                                 Traceback (most recent call last)",
            "\u001b[0;32m<ipython-input-96-2f30d89acd0a>\u001b[0m in \u001b[0;36m<module>\u001b[0;34m\u001b[0m\n\u001b[1;32m      5\u001b[0m   \u001b[0mndvi_string\u001b[0m \u001b[0;34m=\u001b[0m \u001b[0mnp\u001b[0m\u001b[0;34m.\u001b[0m\u001b[0mchar\u001b[0m\u001b[0;34m.\u001b[0m\u001b[0msplit\u001b[0m\u001b[0;34m(\u001b[0m\u001b[0mndvi_string\u001b[0m\u001b[0;34m,\u001b[0m \u001b[0msep\u001b[0m \u001b[0;34m=\u001b[0m \u001b[0;34m','\u001b[0m\u001b[0;34m)\u001b[0m\u001b[0;34m\u001b[0m\u001b[0;34m\u001b[0m\u001b[0m\n\u001b[1;32m      6\u001b[0m   \u001b[0mprint\u001b[0m\u001b[0;34m(\u001b[0m\u001b[0mndvi_string\u001b[0m\u001b[0;34m)\u001b[0m\u001b[0;34m\u001b[0m\u001b[0;34m\u001b[0m\u001b[0m\n\u001b[0;32m----> 7\u001b[0;31m   \u001b[0;32mfor\u001b[0m \u001b[0ma\u001b[0m \u001b[0;32min\u001b[0m \u001b[0mndvi_string\u001b[0m\u001b[0;34m:\u001b[0m\u001b[0;34m\u001b[0m\u001b[0;34m\u001b[0m\u001b[0m\n\u001b[0m\u001b[1;32m      8\u001b[0m     \u001b[0mprint\u001b[0m\u001b[0;34m(\u001b[0m\u001b[0ma\u001b[0m\u001b[0;34m)\u001b[0m\u001b[0;34m\u001b[0m\u001b[0;34m\u001b[0m\u001b[0m\n\u001b[1;32m      9\u001b[0m   \u001b[0mprint\u001b[0m\u001b[0;34m(\u001b[0m\u001b[0mtype\u001b[0m\u001b[0;34m(\u001b[0m\u001b[0mndvi_string\u001b[0m\u001b[0;34m)\u001b[0m\u001b[0;34m)\u001b[0m\u001b[0;34m\u001b[0m\u001b[0;34m\u001b[0m\u001b[0m\n",
            "\u001b[0;31mTypeError\u001b[0m: iteration over a 0-d array"
          ]
        }
      ]
    },
    {
      "cell_type": "markdown",
      "source": [
        "# Printing attributes"
      ],
      "metadata": {
        "id": "Bo1SDmXYWbs1"
      }
    },
    {
      "cell_type": "code",
      "source": [
        "print(\"Longitude data: {}\".format(grid['lon']))\n",
        "print(\"Longitude data attributes: {}\".format(list(grid['lon'].attrs)))\n",
        "\n",
        "## Output\n",
        "# Longitude data: <HDF5 dataset \"lon\": shape (3600,), type \"<f4\">\n",
        "# Longitude data attributes: ['DimensionNames', 'Units', 'units', \n",
        "# 'standard_name', 'LongName', 'bounds', 'axis', 'CLASS', 'REFERENCE_LIST']\n",
        "\n",
        "print(\"Name: {}\".format(grid['lon'].attrs['standard_name'].decode()))\n",
        "print(\"Unit: {}\".format(grid['lon'].attrs['units'].decode()))\n",
        "\n",
        "## Output\n",
        "# Name: longitude\n",
        "# Unit: degrees_east"
      ],
      "metadata": {
        "colab": {
          "base_uri": "https://localhost:8080/"
        },
        "id": "L9OsMAwn33Ws",
        "outputId": "060ec45b-a51f-49a3-a3a5-dc8e847804e0"
      },
      "execution_count": null,
      "outputs": [
        {
          "output_type": "stream",
          "name": "stdout",
          "text": [
            "Longitude data: <HDF5 dataset \"lon\": shape (3600,), type \"<f4\">\n",
            "Longitude data attributes: ['DimensionNames', 'Units', 'units', 'standard_name', 'LongName', 'bounds', 'axis', 'CLASS', 'REFERENCE_LIST']\n",
            "Name: longitude\n",
            "Unit: degrees_east\n"
          ]
        }
      ]
    },
    {
      "cell_type": "code",
      "source": [
        "print(\"Latitude data: {}\".format(grid['lat']))\n",
        "print(\"Latitude data attributes: {}\".format(list(grid['lat'].attrs)))\n",
        "\n",
        "## Output\n",
        "# Latitude data: <HDF5 dataset \"lat\": shape (1800,), type \"<f4\">\n",
        "# Latitude data attributes: ['DimensionNames', 'Units', 'units', \n",
        "# 'standard_name', 'LongName', 'bounds', 'axis', 'CLASS', 'REFERENCE_LIST']\n",
        "\n",
        "print(\"Name: {}\".format(grid['lat'].attrs['standard_name'].decode()))\n",
        "print(\"Unit: {}\".format(grid['lat'].attrs['units'].decode()))\n",
        "\n",
        "## Output\n",
        "# Name: latitude\n",
        "# Unit: degrees_north"
      ],
      "metadata": {
        "colab": {
          "base_uri": "https://localhost:8080/"
        },
        "id": "gWtGm2xJ5GQf",
        "outputId": "f1224dde-341f-4fcd-abdc-3772589a94ed"
      },
      "execution_count": null,
      "outputs": [
        {
          "output_type": "stream",
          "name": "stdout",
          "text": [
            "Latitude data: <HDF5 dataset \"lat\": shape (1800,), type \"<f4\">\n",
            "Latitude data attributes: ['DimensionNames', 'Units', 'units', 'standard_name', 'LongName', 'bounds', 'axis', 'CLASS', 'REFERENCE_LIST']\n",
            "Name: latitude\n",
            "Unit: degrees_north\n"
          ]
        }
      ]
    },
    {
      "cell_type": "code",
      "source": [
        "print(\"Precipitation data: {}\".format(grid['precipitationCal']))\n",
        "print(\"Precipitation data attributes: {}\".format(list(grid['precipitationCal'].attrs)))\n",
        "\n",
        "## Output\n",
        "# Precipitation data: <HDF5 dataset \"precipitation\": shape (1, 3600, 1800), type \"<f4\">\n",
        "# Precipitation data attributes: ['DimensionNames', 'Units', 'units', 'coordinates', \n",
        "# '_FillValue', 'CodeMissingValue', 'DIMENSION_LIST']\n",
        "\n",
        "print(\"Unit: {}\".format(grid['precipitationCal'].attrs['units'].decode()))\n",
        "\n",
        "## Output\n",
        "# Unit: mm/hr"
      ],
      "metadata": {
        "colab": {
          "base_uri": "https://localhost:8080/"
        },
        "id": "SgDCvBC15T_4",
        "outputId": "075376fd-bf8c-4cf5-cbfd-491c097cb965"
      },
      "execution_count": null,
      "outputs": [
        {
          "output_type": "stream",
          "name": "stdout",
          "text": [
            "Precipitation data: <HDF5 dataset \"precipitationCal\": shape (1, 3600, 1800), type \"<f4\">\n",
            "Precipitation data attributes: ['DimensionNames', 'Units', 'units', 'coordinates', '_FillValue', 'CodeMissingValue', 'DIMENSION_LIST']\n",
            "Unit: mm/hr\n"
          ]
        }
      ]
    },
    {
      "cell_type": "markdown",
      "source": [
        "# Loading in attributes to table"
      ],
      "metadata": {
        "id": "I1icnoxAWje8"
      }
    },
    {
      "cell_type": "code",
      "source": [
        "longitude_values = np.repeat(list(grid['lon']), 1800)\n",
        "latitude_values = list(grid['lat'])*3600\n",
        "precipitation_values = np.array(list(grid['precipitationCal'])).flatten()"
      ],
      "metadata": {
        "id": "00nsql_-3_OS"
      },
      "execution_count": null,
      "outputs": []
    },
    {
      "cell_type": "code",
      "source": [
        "dataset = pd.DataFrame({\"lon\": longitude_values, \"lat\": latitude_values, \"precipitationCal\": precipitation_values})\n",
        "dataset.columns = [grid['lon'].attrs['standard_name'].decode() + \" (\" + grid['lon'].attrs['units'].decode() + \")\",\n",
        "                   grid['lat'].attrs['standard_name'].decode() + \" (\" + grid['lat'].attrs['units'].decode() + \")\",\n",
        "                   \"Precipitation (\" + grid['precipitationCal'].attrs['units'].decode() + \")\",]\n",
        "dataset.head()"
      ],
      "metadata": {
        "colab": {
          "base_uri": "https://localhost:8080/"
        },
        "id": "bPcCa7LSYRZ1",
        "outputId": "2422e5c6-f596-4aee-e6ad-67c68d17340f"
      },
      "execution_count": null,
      "outputs": [
        {
          "output_type": "execute_result",
          "data": {
            "text/plain": [
              "   longitude (degrees_east)  latitude (degrees_north)  Precipitation (mm/hr)\n",
              "0               -179.949997                -89.949997           -9999.900391\n",
              "1               -179.949997                -89.849998           -9999.900391\n",
              "2               -179.949997                -89.750000           -9999.900391\n",
              "3               -179.949997                -89.650002           -9999.900391\n",
              "4               -179.949997                -89.550003           -9999.900391"
            ],
            "text/html": [
              "\n",
              "  <div id=\"df-af7f5dc3-1480-4dca-8aaa-62a4f3310286\">\n",
              "    <div class=\"colab-df-container\">\n",
              "      <div>\n",
              "<style scoped>\n",
              "    .dataframe tbody tr th:only-of-type {\n",
              "        vertical-align: middle;\n",
              "    }\n",
              "\n",
              "    .dataframe tbody tr th {\n",
              "        vertical-align: top;\n",
              "    }\n",
              "\n",
              "    .dataframe thead th {\n",
              "        text-align: right;\n",
              "    }\n",
              "</style>\n",
              "<table border=\"1\" class=\"dataframe\">\n",
              "  <thead>\n",
              "    <tr style=\"text-align: right;\">\n",
              "      <th></th>\n",
              "      <th>longitude (degrees_east)</th>\n",
              "      <th>latitude (degrees_north)</th>\n",
              "      <th>Precipitation (mm/hr)</th>\n",
              "    </tr>\n",
              "  </thead>\n",
              "  <tbody>\n",
              "    <tr>\n",
              "      <th>0</th>\n",
              "      <td>-179.949997</td>\n",
              "      <td>-89.949997</td>\n",
              "      <td>-9999.900391</td>\n",
              "    </tr>\n",
              "    <tr>\n",
              "      <th>1</th>\n",
              "      <td>-179.949997</td>\n",
              "      <td>-89.849998</td>\n",
              "      <td>-9999.900391</td>\n",
              "    </tr>\n",
              "    <tr>\n",
              "      <th>2</th>\n",
              "      <td>-179.949997</td>\n",
              "      <td>-89.750000</td>\n",
              "      <td>-9999.900391</td>\n",
              "    </tr>\n",
              "    <tr>\n",
              "      <th>3</th>\n",
              "      <td>-179.949997</td>\n",
              "      <td>-89.650002</td>\n",
              "      <td>-9999.900391</td>\n",
              "    </tr>\n",
              "    <tr>\n",
              "      <th>4</th>\n",
              "      <td>-179.949997</td>\n",
              "      <td>-89.550003</td>\n",
              "      <td>-9999.900391</td>\n",
              "    </tr>\n",
              "  </tbody>\n",
              "</table>\n",
              "</div>\n",
              "      <button class=\"colab-df-convert\" onclick=\"convertToInteractive('df-af7f5dc3-1480-4dca-8aaa-62a4f3310286')\"\n",
              "              title=\"Convert this dataframe to an interactive table.\"\n",
              "              style=\"display:none;\">\n",
              "        \n",
              "  <svg xmlns=\"http://www.w3.org/2000/svg\" height=\"24px\"viewBox=\"0 0 24 24\"\n",
              "       width=\"24px\">\n",
              "    <path d=\"M0 0h24v24H0V0z\" fill=\"none\"/>\n",
              "    <path d=\"M18.56 5.44l.94 2.06.94-2.06 2.06-.94-2.06-.94-.94-2.06-.94 2.06-2.06.94zm-11 1L8.5 8.5l.94-2.06 2.06-.94-2.06-.94L8.5 2.5l-.94 2.06-2.06.94zm10 10l.94 2.06.94-2.06 2.06-.94-2.06-.94-.94-2.06-.94 2.06-2.06.94z\"/><path d=\"M17.41 7.96l-1.37-1.37c-.4-.4-.92-.59-1.43-.59-.52 0-1.04.2-1.43.59L10.3 9.45l-7.72 7.72c-.78.78-.78 2.05 0 2.83L4 21.41c.39.39.9.59 1.41.59.51 0 1.02-.2 1.41-.59l7.78-7.78 2.81-2.81c.8-.78.8-2.07 0-2.86zM5.41 20L4 18.59l7.72-7.72 1.47 1.35L5.41 20z\"/>\n",
              "  </svg>\n",
              "      </button>\n",
              "      \n",
              "  <style>\n",
              "    .colab-df-container {\n",
              "      display:flex;\n",
              "      flex-wrap:wrap;\n",
              "      gap: 12px;\n",
              "    }\n",
              "\n",
              "    .colab-df-convert {\n",
              "      background-color: #E8F0FE;\n",
              "      border: none;\n",
              "      border-radius: 50%;\n",
              "      cursor: pointer;\n",
              "      display: none;\n",
              "      fill: #1967D2;\n",
              "      height: 32px;\n",
              "      padding: 0 0 0 0;\n",
              "      width: 32px;\n",
              "    }\n",
              "\n",
              "    .colab-df-convert:hover {\n",
              "      background-color: #E2EBFA;\n",
              "      box-shadow: 0px 1px 2px rgba(60, 64, 67, 0.3), 0px 1px 3px 1px rgba(60, 64, 67, 0.15);\n",
              "      fill: #174EA6;\n",
              "    }\n",
              "\n",
              "    [theme=dark] .colab-df-convert {\n",
              "      background-color: #3B4455;\n",
              "      fill: #D2E3FC;\n",
              "    }\n",
              "\n",
              "    [theme=dark] .colab-df-convert:hover {\n",
              "      background-color: #434B5C;\n",
              "      box-shadow: 0px 1px 3px 1px rgba(0, 0, 0, 0.15);\n",
              "      filter: drop-shadow(0px 1px 2px rgba(0, 0, 0, 0.3));\n",
              "      fill: #FFFFFF;\n",
              "    }\n",
              "  </style>\n",
              "\n",
              "      <script>\n",
              "        const buttonEl =\n",
              "          document.querySelector('#df-af7f5dc3-1480-4dca-8aaa-62a4f3310286 button.colab-df-convert');\n",
              "        buttonEl.style.display =\n",
              "          google.colab.kernel.accessAllowed ? 'block' : 'none';\n",
              "\n",
              "        async function convertToInteractive(key) {\n",
              "          const element = document.querySelector('#df-af7f5dc3-1480-4dca-8aaa-62a4f3310286');\n",
              "          const dataTable =\n",
              "            await google.colab.kernel.invokeFunction('convertToInteractive',\n",
              "                                                     [key], {});\n",
              "          if (!dataTable) return;\n",
              "\n",
              "          const docLinkHtml = 'Like what you see? Visit the ' +\n",
              "            '<a target=\"_blank\" href=https://colab.research.google.com/notebooks/data_table.ipynb>data table notebook</a>'\n",
              "            + ' to learn more about interactive tables.';\n",
              "          element.innerHTML = '';\n",
              "          dataTable['output_type'] = 'display_data';\n",
              "          await google.colab.output.renderOutput(dataTable, element);\n",
              "          const docLink = document.createElement('div');\n",
              "          docLink.innerHTML = docLinkHtml;\n",
              "          element.appendChild(docLink);\n",
              "        }\n",
              "      </script>\n",
              "    </div>\n",
              "  </div>\n",
              "  "
            ]
          },
          "metadata": {},
          "execution_count": 5
        }
      ]
    },
    {
      "cell_type": "code",
      "source": [
        "dataset['Precipitation (mm/hr)'] = dataset['Precipitation (mm/hr)'].mask(\n",
        "                                    dataset['Precipitation (mm/hr)'] < 0, 0)"
      ],
      "metadata": {
        "id": "wqs73dR65km-"
      },
      "execution_count": null,
      "outputs": []
    },
    {
      "cell_type": "code",
      "source": [
        "#dataset.shape\n",
        "unique = np.sort(dataset['Precipitation (mm/hr)'].unique())\n",
        "print(unique)\n",
        "#print(max(dataset['Precipitation (mm/hr)']))"
      ],
      "metadata": {
        "colab": {
          "base_uri": "https://localhost:8080/"
        },
        "id": "254j9Cn86UbH",
        "outputId": "c7e0d2d8-9b65-4e3e-fb3c-4c1ca6d66d89"
      },
      "execution_count": null,
      "outputs": [
        {
          "output_type": "stream",
          "name": "stdout",
          "text": [
            "[0.000000e+00 6.536639e-12 5.091496e-11 ... 8.463714e+01 8.542840e+01\n",
            " 8.755804e+01]\n"
          ]
        }
      ]
    },
    {
      "cell_type": "code",
      "source": [
        "dataset.head()"
      ],
      "metadata": {
        "colab": {
          "base_uri": "https://localhost:8080/"
        },
        "id": "PHJGz_ZhYje7",
        "outputId": "a83331b0-b8ce-4cf6-adf3-4f37fa51bc3e"
      },
      "execution_count": null,
      "outputs": [
        {
          "output_type": "execute_result",
          "data": {
            "text/plain": [
              "   longitude (degrees_east)  latitude (degrees_north)  Precipitation (mm/hr)\n",
              "0               -179.949997                -89.949997                    0.0\n",
              "1               -179.949997                -89.849998                    0.0\n",
              "2               -179.949997                -89.750000                    0.0\n",
              "3               -179.949997                -89.650002                    0.0\n",
              "4               -179.949997                -89.550003                    0.0"
            ],
            "text/html": [
              "\n",
              "  <div id=\"df-fcad2cd4-2b0b-4f86-8d08-15d7b486658e\">\n",
              "    <div class=\"colab-df-container\">\n",
              "      <div>\n",
              "<style scoped>\n",
              "    .dataframe tbody tr th:only-of-type {\n",
              "        vertical-align: middle;\n",
              "    }\n",
              "\n",
              "    .dataframe tbody tr th {\n",
              "        vertical-align: top;\n",
              "    }\n",
              "\n",
              "    .dataframe thead th {\n",
              "        text-align: right;\n",
              "    }\n",
              "</style>\n",
              "<table border=\"1\" class=\"dataframe\">\n",
              "  <thead>\n",
              "    <tr style=\"text-align: right;\">\n",
              "      <th></th>\n",
              "      <th>longitude (degrees_east)</th>\n",
              "      <th>latitude (degrees_north)</th>\n",
              "      <th>Precipitation (mm/hr)</th>\n",
              "    </tr>\n",
              "  </thead>\n",
              "  <tbody>\n",
              "    <tr>\n",
              "      <th>0</th>\n",
              "      <td>-179.949997</td>\n",
              "      <td>-89.949997</td>\n",
              "      <td>0.0</td>\n",
              "    </tr>\n",
              "    <tr>\n",
              "      <th>1</th>\n",
              "      <td>-179.949997</td>\n",
              "      <td>-89.849998</td>\n",
              "      <td>0.0</td>\n",
              "    </tr>\n",
              "    <tr>\n",
              "      <th>2</th>\n",
              "      <td>-179.949997</td>\n",
              "      <td>-89.750000</td>\n",
              "      <td>0.0</td>\n",
              "    </tr>\n",
              "    <tr>\n",
              "      <th>3</th>\n",
              "      <td>-179.949997</td>\n",
              "      <td>-89.650002</td>\n",
              "      <td>0.0</td>\n",
              "    </tr>\n",
              "    <tr>\n",
              "      <th>4</th>\n",
              "      <td>-179.949997</td>\n",
              "      <td>-89.550003</td>\n",
              "      <td>0.0</td>\n",
              "    </tr>\n",
              "  </tbody>\n",
              "</table>\n",
              "</div>\n",
              "      <button class=\"colab-df-convert\" onclick=\"convertToInteractive('df-fcad2cd4-2b0b-4f86-8d08-15d7b486658e')\"\n",
              "              title=\"Convert this dataframe to an interactive table.\"\n",
              "              style=\"display:none;\">\n",
              "        \n",
              "  <svg xmlns=\"http://www.w3.org/2000/svg\" height=\"24px\"viewBox=\"0 0 24 24\"\n",
              "       width=\"24px\">\n",
              "    <path d=\"M0 0h24v24H0V0z\" fill=\"none\"/>\n",
              "    <path d=\"M18.56 5.44l.94 2.06.94-2.06 2.06-.94-2.06-.94-.94-2.06-.94 2.06-2.06.94zm-11 1L8.5 8.5l.94-2.06 2.06-.94-2.06-.94L8.5 2.5l-.94 2.06-2.06.94zm10 10l.94 2.06.94-2.06 2.06-.94-2.06-.94-.94-2.06-.94 2.06-2.06.94z\"/><path d=\"M17.41 7.96l-1.37-1.37c-.4-.4-.92-.59-1.43-.59-.52 0-1.04.2-1.43.59L10.3 9.45l-7.72 7.72c-.78.78-.78 2.05 0 2.83L4 21.41c.39.39.9.59 1.41.59.51 0 1.02-.2 1.41-.59l7.78-7.78 2.81-2.81c.8-.78.8-2.07 0-2.86zM5.41 20L4 18.59l7.72-7.72 1.47 1.35L5.41 20z\"/>\n",
              "  </svg>\n",
              "      </button>\n",
              "      \n",
              "  <style>\n",
              "    .colab-df-container {\n",
              "      display:flex;\n",
              "      flex-wrap:wrap;\n",
              "      gap: 12px;\n",
              "    }\n",
              "\n",
              "    .colab-df-convert {\n",
              "      background-color: #E8F0FE;\n",
              "      border: none;\n",
              "      border-radius: 50%;\n",
              "      cursor: pointer;\n",
              "      display: none;\n",
              "      fill: #1967D2;\n",
              "      height: 32px;\n",
              "      padding: 0 0 0 0;\n",
              "      width: 32px;\n",
              "    }\n",
              "\n",
              "    .colab-df-convert:hover {\n",
              "      background-color: #E2EBFA;\n",
              "      box-shadow: 0px 1px 2px rgba(60, 64, 67, 0.3), 0px 1px 3px 1px rgba(60, 64, 67, 0.15);\n",
              "      fill: #174EA6;\n",
              "    }\n",
              "\n",
              "    [theme=dark] .colab-df-convert {\n",
              "      background-color: #3B4455;\n",
              "      fill: #D2E3FC;\n",
              "    }\n",
              "\n",
              "    [theme=dark] .colab-df-convert:hover {\n",
              "      background-color: #434B5C;\n",
              "      box-shadow: 0px 1px 3px 1px rgba(0, 0, 0, 0.15);\n",
              "      filter: drop-shadow(0px 1px 2px rgba(0, 0, 0, 0.3));\n",
              "      fill: #FFFFFF;\n",
              "    }\n",
              "  </style>\n",
              "\n",
              "      <script>\n",
              "        const buttonEl =\n",
              "          document.querySelector('#df-fcad2cd4-2b0b-4f86-8d08-15d7b486658e button.colab-df-convert');\n",
              "        buttonEl.style.display =\n",
              "          google.colab.kernel.accessAllowed ? 'block' : 'none';\n",
              "\n",
              "        async function convertToInteractive(key) {\n",
              "          const element = document.querySelector('#df-fcad2cd4-2b0b-4f86-8d08-15d7b486658e');\n",
              "          const dataTable =\n",
              "            await google.colab.kernel.invokeFunction('convertToInteractive',\n",
              "                                                     [key], {});\n",
              "          if (!dataTable) return;\n",
              "\n",
              "          const docLinkHtml = 'Like what you see? Visit the ' +\n",
              "            '<a target=\"_blank\" href=https://colab.research.google.com/notebooks/data_table.ipynb>data table notebook</a>'\n",
              "            + ' to learn more about interactive tables.';\n",
              "          element.innerHTML = '';\n",
              "          dataTable['output_type'] = 'display_data';\n",
              "          await google.colab.output.renderOutput(dataTable, element);\n",
              "          const docLink = document.createElement('div');\n",
              "          docLink.innerHTML = docLinkHtml;\n",
              "          element.appendChild(docLink);\n",
              "        }\n",
              "      </script>\n",
              "    </div>\n",
              "  </div>\n",
              "  "
            ]
          },
          "metadata": {},
          "execution_count": 8
        }
      ]
    },
    {
      "cell_type": "code",
      "source": [
        "#dataset.to_csv(\"./precipitation_test.csv\", index = False)"
      ],
      "metadata": {
        "id": "1-Wl17mn4VgM"
      },
      "execution_count": null,
      "outputs": []
    },
    {
      "cell_type": "markdown",
      "source": [
        "# Test out data"
      ],
      "metadata": {
        "id": "iiuwC2nVZveJ"
      }
    },
    {
      "cell_type": "code",
      "source": [
        "import matplotlib.pyplot as plt\n",
        "import seaborn as sns\n",
        "\n",
        "X = dataset.drop(columns=['Precipitation (mm/hr)'])\n",
        "y = dataset['Precipitation (mm/hr)']\n",
        "y_nozeros = y[y != 0]\n",
        "\n",
        "plt.figure(figsize=(8,6))\n",
        "s = sns.histplot(y_nozeros, bins = 10000)\n",
        "s.set_xlabel(\"Precipitation (mm/hr)\", fontsize = 20)\n",
        "s.set_ylabel(\"Density\", fontsize = 20)\n",
        "plt.xlim(0, 5) # Limiting to small values for now, since this is where nearly all the entries lie\n",
        "title = plt.title(\"Precipitation Histogram\", fontsize = 20)"
      ],
      "metadata": {
        "colab": {
          "base_uri": "https://localhost:8080/",
          "height": 418
        },
        "id": "IHbtuDS1ZuS6",
        "outputId": "261fda9a-e4e9-45cc-ef19-22d2cf92a995"
      },
      "execution_count": null,
      "outputs": [
        {
          "output_type": "display_data",
          "data": {
            "text/plain": [
              "<Figure size 576x432 with 1 Axes>"
            ],
            "image/png": "[encoded data removed]"
          },
          "metadata": {
            "needs_background": "light"
          }
        }
      ]
    },
    {
      "cell_type": "code",
      "source": [
        "print(X.isnull().sum())"
      ],
      "metadata": {
        "colab": {
          "base_uri": "https://localhost:8080/"
        },
        "id": "6HRXFP9sjsHK",
        "outputId": "f903f1eb-d06d-4dfa-83b8-e278c210c023"
      },
      "execution_count": null,
      "outputs": [
        {
          "output_type": "stream",
          "name": "stdout",
          "text": [
            "longitude (degrees_east)    0\n",
            "latitude (degrees_north)    0\n",
            "dtype: int64\n"
          ]
        }
      ]
    },
    {
      "cell_type": "code",
      "source": [
        "from sklearn.ensemble import RandomForestRegressor\n",
        "\n",
        "# Perform predictions using a Random Forst Classifier\n",
        "rf = RandomForestRegressor()\n",
        "rf.fit(X, y)\n",
        "\n",
        "# Create a pandas Series storing the feature importances of each column in regards to predicting SalePrice\n",
        "feature_imp = pd.Series(rf.feature_importances_, index=X.columns).sort_values(ascending=False)\n",
        "\n",
        "# Plot out the features from most important to least\n",
        "print('Feature importances: ', rf.feature_importances_)\n",
        "sns.set(rc={\"figure.figsize\":(10, 8)})\n",
        "print(sns.barplot(x=feature_imp, y=feature_imp.index))\n",
        "plt.xlabel('Importance Score', fontsize=12)\n",
        "plt.ylabel('Features', fontsize=12)\n",
        "plt.title(\"Important Features\", fontsize=15, pad=15)"
      ],
      "metadata": {
        "colab": {
          "base_uri": "https://localhost:8080/",
          "height": 581
        },
        "id": "sErr_Cw5jshr",
        "outputId": "a832ed3c-80cf-4ba6-86ba-2155c35abd5f"
      },
      "execution_count": null,
      "outputs": [
        {
          "output_type": "stream",
          "name": "stdout",
          "text": [
            "Feature importances:  [0.49913808 0.50086192]\n",
            "AxesSubplot(0.125,0.125;0.775x0.755)\n"
          ]
        },
        {
          "output_type": "execute_result",
          "data": {
            "text/plain": [
              "Text(0.5, 1.0, 'Important Features')"
            ]
          },
          "metadata": {},
          "execution_count": 14
        },
        {
          "output_type": "display_data",
          "data": {
            "text/plain": [
              "<Figure size 720x576 with 1 Axes>"
            ],
            "image/png": "[encoded data removed]"
          },
          "metadata": {}
        }
      ]
    },
    {
      "cell_type": "code",
      "source": [
        "# Standardize the independent features\n",
        "from sklearn.preprocessing import StandardScaler\n",
        "X_std = StandardScaler().fit_transform(X)\n",
        "\n",
        "# Split the features into train and test groups, with 20% of the data being used for testing\n",
        "from sklearn.model_selection import train_test_split\n",
        "X_train, X_test, y_train, y_test = train_test_split(X_std, y, test_size=0.2, random_state=42)\n",
        "\n",
        "# Import mean squared error function for purpose of calculating results\n",
        "from sklearn.metrics import mean_squared_error"
      ],
      "metadata": {
        "id": "hy14W17Flk8Z"
      },
      "execution_count": null,
      "outputs": []
    },
    {
      "cell_type": "code",
      "source": [
        "# Calculating the MSE of KNN for n_neighbors 1 to 10\n",
        "from sklearn.neighbors import KNeighborsRegressor\n",
        "knn_mse_errors = []\n",
        "for i in range(1,10):\n",
        "  knn = KNeighborsRegressor(n_neighbors=i)\n",
        "  knn.fit(X_train, y_train)\n",
        "  y_pred_knn = knn.predict(X_test)\n",
        "  knn_mse_errors.append(mean_squared_error(y_test, y_pred_knn))\n",
        "\n",
        "# Plot the results of all iterations\n",
        "x = np.arange(1, 10)\n",
        "y = np.array(knn_mse_errors)\n",
        "\n",
        "plt.title(\"Tuning of n_neighbors\")\n",
        "plt.xlabel(\"n_neighbors\")\n",
        "plt.ylabel(\"Mean Squared Error\")\n",
        "plt.plot(x, y, color =\"blue\")\n",
        "plt.show()"
      ],
      "metadata": {
        "colab": {
          "base_uri": "https://localhost:8080/",
          "height": 518
        },
        "id": "EBFIIEWOw8Mu",
        "outputId": "1dcc8006-7ac3-4229-c14b-e2e8d9a01952"
      },
      "execution_count": null,
      "outputs": [
        {
          "output_type": "display_data",
          "data": {
            "text/plain": [
              "<Figure size 720x576 with 1 Axes>"
            ],
            "image/png": "[encoded data removed]"
          },
          "metadata": {}
        }
      ]
    },
    {
      "cell_type": "code",
      "source": [
        "# Perform a KNN regressor with the best n_neighbors value from the graph\n",
        "knn = KNeighborsRegressor(n_neighbors=7)\n",
        "knn.fit(X_train, y_train)\n",
        "y_pred_knn = knn.predict(X_test)\n",
        "# Print the mse and score of the model\n",
        "print(mean_squared_error(y_test, y_pred_knn))\n",
        "print(knn.score(X_test,y_test))"
      ],
      "metadata": {
        "colab": {
          "base_uri": "https://localhost:8080/"
        },
        "id": "rG-ULqwQx2Nm",
        "outputId": "908c3c87-fc80-4e68-8451-14a08a900780"
      },
      "execution_count": null,
      "outputs": [
        {
          "output_type": "stream",
          "name": "stdout",
          "text": [
            "0.07637353\n",
            "0.8792046687176295\n"
          ]
        }
      ]
    },
    {
      "cell_type": "code",
      "source": [
        "# Scrapped function to remove points that are within a set number of degrees\n",
        "# 0.1 degrees = ~6.91 miles\n",
        "\n",
        "# import numpy as np\n",
        "# threshold = 0.5\n",
        "\n",
        "# gpm_mat = gpm_data.to_numpy()\n",
        "# i = 0\n",
        "# while i < gpm_mat.shape[0]-1:\n",
        "#   p1 = gpm_mat[i, 0:2]\n",
        "#   p2 = gpm_mat[i+1, 0:2]\n",
        "#   dist = np.linalg.norm(p1 - p2)\n",
        "#   if dist <= threshold:\n",
        "#     gpm_mat = np.delete(gpm_mat, i+1, 0)\n",
        "#   else:\n",
        "#     i += 1\n",
        "\n",
        "# gpm_data = pd.DataFrame(gpm_mat, columns = gpm_data.columns.values)"
      ],
      "metadata": {
        "id": "uETBUyMfx3Ke"
      },
      "execution_count": null,
      "outputs": []
    }
  ]
}